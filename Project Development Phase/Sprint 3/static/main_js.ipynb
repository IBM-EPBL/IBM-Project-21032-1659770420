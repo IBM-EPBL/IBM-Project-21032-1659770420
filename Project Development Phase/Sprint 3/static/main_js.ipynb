{
  "nbformat": 4,
  "nbformat_minor": 0,
  "metadata": {
    "colab": {
      "provenance": []
    },
    "kernelspec": {
      "name": "python3",
      "display_name": "Python 3"
    },
    "language_info": {
      "name": "python"
    }
  },
  "cells": [
    {
      "cell_type": "code",
      "execution_count": null,
      "metadata": {
        "id": "pKW1uDJ3_xe5"
      },
      "outputs": [],
      "source": [
        "$(document).ready(function () {\n",
        "    // Init\n",
        "    $('.image-section').hide();\n",
        "    $('.loader').hide();\n",
        "    $('#result').hide();\n",
        "\n",
        "    // Upload Preview\n",
        "    function readURL(input) {\n",
        "        if (input.files && input.files[0]) {\n",
        "            var reader = new FileReader();\n",
        "            reader.onload = function (e) {\n",
        "                $('#imagePreview').css('background-image', 'url(' + e.target.result + ')');\n",
        "                $('#imagePreview').hide();\n",
        "                $('#imagePreview').fadeIn(650);\n",
        "            }\n",
        "            reader.readAsDataURL(input.files[0]);\n",
        "        }\n",
        "    }\n",
        "    $(\"#imageUpload\").change(function () {\n",
        "        $('.image-section').show();\n",
        "        $('#btn-predict').show();\n",
        "        $('#result').text('');\n",
        "        $('#result').hide();\n",
        "        readURL(this);\n",
        "    });\n",
        "\n",
        "    // Predict\n",
        "    $('#btn-predict').click(function () {\n",
        "        var form_data = new FormData($('#upload-file')[0]);\n",
        "\n",
        "        // Show loading animation\n",
        "        $(this).hide();\n",
        "        $('.loader').show();\n",
        "\n",
        "        // Make prediction by calling api /predict\n",
        "        $.ajax({\n",
        "            type: 'POST',\n",
        "            url: '/predict',\n",
        "            data: form_data,\n",
        "            contentType: false,\n",
        "            cache: false,\n",
        "            processData: false,\n",
        "            async: true,\n",
        "            success: function (data) {\n",
        "                // Get and display the result\n",
        "                $('.loader').hide();\n",
        "                $('#result').fadeIn(600);\n",
        "                $('#result').html(data);\n",
        "                console.log('Success!');\n",
        "            },\n",
        "        });\n",
        "    });\n",
        "\n",
        "});\n"
      ]
    }
  ]
}