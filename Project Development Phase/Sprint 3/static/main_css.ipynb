{
  "nbformat": 4,
  "nbformat_minor": 0,
  "metadata": {
    "colab": {
      "provenance": []
    },
    "kernelspec": {
      "name": "python3",
      "display_name": "Python 3"
    },
    "language_info": {
      "name": "python"
    }
  },
  "cells": [
    {
      "cell_type": "code",
      "execution_count": null,
      "metadata": {
        "id": "pKW1uDJ3_xe5"
      },
      "outputs": [],
      "source": [
        ".img-preview {\n",
        "    width: 256px;\n",
        "    height: 256px;\n",
        "    position: relative;\n",
        "    border: 5px solid #F8F8F8;\n",
        "    box-shadow: 0px 2px 4px 0px rgba(0, 0, 0, 0.1);\n",
        "    margin-top: 1em;\n",
        "    margin-bottom: 1em;    \n",
        "}\n",
        "\n",
        ".img-preview>div {\n",
        "    width: 100%;\n",
        "    height: 100%;\n",
        "    background-size: 256px 256px;\n",
        "    background-repeat: no-repeat;\n",
        "    background-position: center;\n",
        "}\n",
        "\n",
        "input[type=\"file\"] {\n",
        "    display: none;\n",
        "}\n",
        "\n",
        ".upload-label{\n",
        "    display: inline-block;\n",
        "    padding: 12px 30px;\n",
        "    background: #39D2B4;\n",
        "    color: #fff;\n",
        "    font-size: 1em;\n",
        "    transition: all .4s;\n",
        "    cursor: pointer;\n",
        "}\n",
        "\n",
        ".upload-label:hover{\n",
        "    background: #34495E;\n",
        "    color: #39D2B4;\n",
        "}\n",
        "\n",
        ".loader {\n",
        "    border: 8px solid #f3f3f3; /* Light grey */\n",
        "    border-top: 8px solid #3498db; /* Blue */\n",
        "    border-radius: 50%;\n",
        "    width: 50px;\n",
        "    height: 50px;\n",
        "    animation: spin 1s linear infinite;\n",
        "}\n",
        "\n",
        "@keyframes spin {\n",
        "    0% { transform: rotate(0deg); }\n",
        "    100% { transform: rotate(360deg); }\n",
        "}"
      ]
    }
  ]
}