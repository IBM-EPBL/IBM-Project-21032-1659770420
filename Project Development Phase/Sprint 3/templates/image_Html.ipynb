{
  "nbformat": 4,
  "nbformat_minor": 0,
  "metadata": {
    "colab": {
      "provenance": []
    },
    "kernelspec": {
      "name": "python3",
      "display_name": "Python 3"
    },
    "language_info": {
      "name": "python"
    }
  },
  "cells": [
    {
      "cell_type": "code",
      "execution_count": null,
      "metadata": {
        "id": "pKW1uDJ3_xe5"
      },
      "outputs": [],
      "source": [
        "\n",
        "\n",
        "\n",
        "{% extends \"imageprediction.html\" %} {% block content %}\n",
        "<div style=\"float:left\">\n",
        "<br>\n",
        "<br>\n",
        "<h5><font color=\"black\" size=\"3\" font-family=\"sans-serif\"><b>Upload image to classify</b></font></h5><br><br>\n",
        "\n",
        "<div>\n",
        "    <form id=\"upload-file\" method=\"post\" enctype=\"multipart/form-data\">\n",
        "       <label for=\"imageUpload\" class=\"upload-label\">\n",
        "            Choose...\n",
        "        </label>\n",
        "        <input type=\"file\" name=\"file\" id=\"imageUpload\" accept=\".png, .jpg, .jpeg\">\n",
        "    </form>\n",
        "\n",
        "   <center> <div class=\"image-section\" style=\"display:none;\">\n",
        "        <div class=\"img-preview\">\n",
        "            <div id=\"imagePreview\">\n",
        "            </div></center>\n",
        "        </div>\n",
        "        <center><div>\n",
        "            <button type=\"button\" class=\"btn btn-primary btn-lg \" id=\"btn-predict\">Classify</button>\n",
        "       </center></div>\n",
        "    </div>\n",
        "\n",
        "    <div class=\"loader\" style=\"display:none;margin-left: 450px;\"></div>\n",
        "\n",
        "    <h3 id=\"result\">\n",
        "     \n",
        "        <span><p style=\"padding-top: 25px;\"><h4>Food Classified is : <h4><b><u>{{showcase}}{{showcase1}}</p> </span>\n",
        "    </h3>\n",
        "\n",
        "</div>\n",
        "</div>\n",
        "\n",
        "       \n",
        "\n",
        "{% endblock %}"
      ]
    }
  ]
}