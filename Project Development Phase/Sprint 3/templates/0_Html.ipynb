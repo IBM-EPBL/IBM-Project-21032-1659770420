{
  "nbformat": 4,
  "nbformat_minor": 0,
  "metadata": {
    "colab": {
      "provenance": []
    },
    "kernelspec": {
      "name": "python3",
      "display_name": "Python 3"
    },
    "language_info": {
      "name": "python"
    }
  },
  "cells": [
    {
      "cell_type": "code",
      "execution_count": null,
      "metadata": {
        "id": "pKW1uDJ3_xe5"
      },
      "outputs": [],
      "source": [
        "\n",
        "<html lang=\"en\" dir=\"ltr\">\n",
        "<head>\n",
        "<style>\n",
        "\n",
        "</style>\n",
        "\t\t<meta charset=\"utf-8\">\n",
        "\t\t<title>Nutrition Image Analysis</title>\n",
        "\t\t<link rel=\"shortcut icon\" href=\"{{ url_for('static', filename='diabetes-favicon.ico') }}\">\n",
        "\t\t<link rel=\"stylesheet\" type=\"text/css\" href=\"{{ url_for('static', filename='style.css') }}\">\n",
        "\t\t<script src=\"https://kit.fontawesome.com/5f3f547070.js\" crossorigin=\"anonymous\"></script>\n",
        "\t\t<link href=\"https://fonts.googleapis.com/css2?family=Pacifico&display=swap\" rel=\"stylesheet\">\n",
        "\t</head>\n",
        "\t    \n",
        "\t\t<!-- Result -->\n",
        "\t\t<div class=\"results\">\n",
        "\t\t        <p style=\"padding-top: 150px; color:blue;\"><h4 style=\"color:blue;\">Food Classified is: <h4><b><h4 style=\"color:red;\"><u>{{showcase1}}<h4><br><h4 style=\"color:red;\"><u>{{showcase}}<h4></p>\n",
        "\t\t\t\n",
        "\t\t</div>\n",
        "\t\t<br>\n",
        "\t\t<br>\n",
        "       \n",
        "    </div>\n",
        "\t</body>\n",
        "</html>"
      ]
    }
  ]
}