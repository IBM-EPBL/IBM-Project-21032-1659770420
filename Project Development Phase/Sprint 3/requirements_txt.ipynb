{
  "nbformat": 4,
  "nbformat_minor": 0,
  "metadata": {
    "colab": {
      "provenance": []
    },
    "kernelspec": {
      "name": "python3",
      "display_name": "Python 3"
    },
    "language_info": {
      "name": "python"
    }
  },
  "cells": [
    {
      "cell_type": "code",
      "execution_count": null,
      "metadata": {
        "id": "t1cqCJhl7xHu"
      },
      "outputs": [],
      "source": [
        "certifi==2022.9.24\n",
        "charset-normalizer==2.1.1\n",
        "click==8.1.3\n",
        "colorama==0.4.6\n",
        "Flask==2.2.2\n",
        "idna==3.4\n",
        "itsdangerous==2.1.2\n",
        "Jinja2==3.1.2\n",
        "MarkupSafe==2.1.1\n",
        "numpy==1.23.4\n",
        "requests==2.28.1\n",
        "urllib3==1.26.12\n",
        "Werkzeug==2.2.2\n"
      ]
    }
  ]
}