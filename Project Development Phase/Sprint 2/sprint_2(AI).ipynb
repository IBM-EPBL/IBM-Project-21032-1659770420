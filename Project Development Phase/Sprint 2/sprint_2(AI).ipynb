{
  "nbformat": 4,
  "nbformat_minor": 0,
  "metadata": {
    "colab": {
      "provenance": [],
      "collapsed_sections": []
    },
    "kernelspec": {
      "name": "python3",
      "display_name": "Python 3"
    },
    "language_info": {
      "name": "python"
    }
  },
  "cells": [
    {
      "cell_type": "code",
      "execution_count": 1,
      "metadata": {
        "id": "S_iYyQhjUlTn"
      },
      "outputs": [],
      "source": [
        "from keras.models import Sequential\n",
        "from keras.layers import Dense\n",
        "from keras.layers import Convolution2D\n",
        "from keras.layers import MaxPooling2D\n",
        "from keras.layers import Flatten"
      ]
    },
    {
      "cell_type": "code",
      "source": [
        "from keras.preprocessing.image import ImageDataGenerator\n",
        "train_datagen = ImageDataGenerator(rescale=1./255,shear_range=0.2,zoom_range=0.2,horizontal_flip=True,vertical_flip=True)"
      ],
      "metadata": {
        "id": "CVc3LjE2UnPa"
      },
      "execution_count": 2,
      "outputs": []
    },
    {
      "cell_type": "code",
      "source": [
        "test_datagen = ImageDataGenerator(rescale=1./255)"
      ],
      "metadata": {
        "id": "TSi70QeOUxNU"
      },
      "execution_count": 3,
      "outputs": []
    },
    {
      "cell_type": "code",
      "source": [
        "x_train = train_datagen.flow_from_directory(\"/content/drive/MyDrive/Dataset/TRAIN_SET\",target_size=(64,64),batch_size=32,class_mode=\"binary\")"
      ],
      "metadata": {
        "colab": {
          "base_uri": "https://localhost:8080/"
        },
        "id": "izcjhdRtUzqP",
        "outputId": "eea63575-8c65-42b9-d202-c65bbf073dc2"
      },
      "execution_count": 4,
      "outputs": [
        {
          "output_type": "stream",
          "name": "stdout",
          "text": [
            "Found 4118 images belonging to 5 classes.\n"
          ]
        }
      ]
    },
    {
      "cell_type": "code",
      "source": [
        "x_test = test_datagen.flow_from_directory(\"/content/drive/MyDrive/Dataset/TEST_SET\",target_size=(64,64),batch_size=32,class_mode=\"binary\")"
      ],
      "metadata": {
        "colab": {
          "base_uri": "https://localhost:8080/"
        },
        "id": "1PYSFXFIU_la",
        "outputId": "985a2712-df1c-4fbf-ecb3-8053c4641888"
      },
      "execution_count": 5,
      "outputs": [
        {
          "output_type": "stream",
          "name": "stdout",
          "text": [
            "Found 929 images belonging to 5 classes.\n"
          ]
        }
      ]
    },
    {
      "cell_type": "code",
      "source": [
        "x_train.class_indices"
      ],
      "metadata": {
        "colab": {
          "base_uri": "https://localhost:8080/"
        },
        "id": "Zbx7cQfxVIWg",
        "outputId": "48d186ad-5dd0-440a-b22f-1cc82d6b41f7"
      },
      "execution_count": 6,
      "outputs": [
        {
          "output_type": "execute_result",
          "data": {
            "text/plain": [
              "{'APPLES': 0, 'BANANA': 1, 'ORANGE': 2, 'PINEAPPLE': 3, 'WATERMELON': 4}"
            ]
          },
          "metadata": {},
          "execution_count": 6
        }
      ]
    },
    {
      "cell_type": "code",
      "source": [
        "print(x_test.class_indices)"
      ],
      "metadata": {
        "colab": {
          "base_uri": "https://localhost:8080/"
        },
        "id": "Nwb0JWXxVzR5",
        "outputId": "25752ea6-2816-4900-d0d5-b44c1779bd88"
      },
      "execution_count": 7,
      "outputs": [
        {
          "output_type": "stream",
          "name": "stdout",
          "text": [
            "{'APPLES': 0, 'BANANA': 1, 'ORANGE': 2, 'PINEAPPLE': 3, 'WATERMELON': 4}\n"
          ]
        }
      ]
    },
    {
      "cell_type": "code",
      "source": [
        "from collections import Counter as c\n",
        "c(x_train .labels)"
      ],
      "metadata": {
        "colab": {
          "base_uri": "https://localhost:8080/"
        },
        "id": "ZF78n3BvV2Z8",
        "outputId": "98ab304e-3f8c-43fb-a99d-88608f81edcf"
      },
      "execution_count": 8,
      "outputs": [
        {
          "output_type": "execute_result",
          "data": {
            "text/plain": [
              "Counter({0: 995, 1: 1354, 2: 1019, 3: 275, 4: 475})"
            ]
          },
          "metadata": {},
          "execution_count": 8
        }
      ]
    },
    {
      "cell_type": "code",
      "source": [
        "model = Sequential()\n",
        "# add First convolution layer\n",
        "model.add(Convolution2D(32,(3,3),input_shape=(64,64,3),activation=\"relu\"))"
      ],
      "metadata": {
        "id": "Hv7_vGa6V8QE"
      },
      "execution_count": 9,
      "outputs": []
    },
    {
      "cell_type": "code",
      "source": [
        "model.add(MaxPooling2D(pool_size=(2,2)))"
      ],
      "metadata": {
        "id": "cLZF2n5dWWZz"
      },
      "execution_count": 10,
      "outputs": []
    },
    {
      "cell_type": "code",
      "source": [
        "model.add(Convolution2D(32,(3,3),activation='relu'))\n",
        "model.add(MaxPooling2D(pool_size=(2,2)))"
      ],
      "metadata": {
        "id": "CcF-rPEtWLcd"
      },
      "execution_count": 11,
      "outputs": []
    },
    {
      "cell_type": "code",
      "source": [
        "model.add(Flatten())\n",
        "model.add(Dense(units=128,activation='relu'))\n",
        "model.add(Dense(units=5,activation='softmax'))"
      ],
      "metadata": {
        "id": "2MwsSpy8Xblh"
      },
      "execution_count": 12,
      "outputs": []
    },
    {
      "cell_type": "code",
      "source": [
        "model.add(Flatten())\n",
        "model.summary()"
      ],
      "metadata": {
        "colab": {
          "base_uri": "https://localhost:8080/"
        },
        "id": "HftKNjOvXfua",
        "outputId": "19a41bc4-bbd6-48e8-d464-c1da0f891fd2"
      },
      "execution_count": 13,
      "outputs": [
        {
          "output_type": "stream",
          "name": "stdout",
          "text": [
            "Model: \"sequential\"\n",
            "_________________________________________________________________\n",
            " Layer (type)                Output Shape              Param #   \n",
            "=================================================================\n",
            " conv2d (Conv2D)             (None, 62, 62, 32)        896       \n",
            "                                                                 \n",
            " max_pooling2d (MaxPooling2D  (None, 31, 31, 32)       0         \n",
            " )                                                               \n",
            "                                                                 \n",
            " conv2d_1 (Conv2D)           (None, 29, 29, 32)        9248      \n",
            "                                                                 \n",
            " max_pooling2d_1 (MaxPooling  (None, 14, 14, 32)       0         \n",
            " 2D)                                                             \n",
            "                                                                 \n",
            " flatten (Flatten)           (None, 6272)              0         \n",
            "                                                                 \n",
            " dense (Dense)               (None, 128)               802944    \n",
            "                                                                 \n",
            " dense_1 (Dense)             (None, 5)                 645       \n",
            "                                                                 \n",
            " flatten_1 (Flatten)         (None, 5)                 0         \n",
            "                                                                 \n",
            "=================================================================\n",
            "Total params: 813,733\n",
            "Trainable params: 813,733\n",
            "Non-trainable params: 0\n",
            "_________________________________________________________________\n"
          ]
        }
      ]
    },
    {
      "cell_type": "code",
      "source": [
        "model.add(Dense(units=300,kernel_initializer=\"random_uniform\",activation=\"relu\"))\n",
        "model.add(Dense(units=200,kernel_initializer=\"random_uniform\",activation=\"relu\"))"
      ],
      "metadata": {
        "id": "dLccrLHiXlDG"
      },
      "execution_count": 14,
      "outputs": []
    },
    {
      "cell_type": "code",
      "source": [
        "model.add(Dense(units=4,kernel_initializer=\"random_uniform\",activation=\"softmax\"))\n",
        "len(x_train)"
      ],
      "metadata": {
        "colab": {
          "base_uri": "https://localhost:8080/"
        },
        "id": "wMjKUfpWXp9c",
        "outputId": "1513413f-4614-4d37-db49-6edfd5e9491e"
      },
      "execution_count": 15,
      "outputs": [
        {
          "output_type": "execute_result",
          "data": {
            "text/plain": [
              "129"
            ]
          },
          "metadata": {},
          "execution_count": 15
        }
      ]
    },
    {
      "cell_type": "code",
      "source": [
        "model.add(Dense(units=128,activation=\"relu\",kernel_initializer=\"random_uniform\"))\n",
        "model.add(Dense(units=1,activation=\"sigmoid\",kernel_initializer=\"random_uniform\"))"
      ],
      "metadata": {
        "id": "7gUfq1uiXvPE"
      },
      "execution_count": 16,
      "outputs": []
    },
    {
      "cell_type": "code",
      "source": [
        "model.compile(loss=\"binary_crossentropy\",optimizer=\"adam\",metrics=['accuracy'])"
      ],
      "metadata": {
        "id": "jlspS5FjX0NX"
      },
      "execution_count": 17,
      "outputs": []
    },
    {
      "cell_type": "code",
      "source": [
        "model.fit_generator(x_train,steps_per_epoch=len(x_train), validation_data=x_test, validation_steps=len(x_test), epochs= 20)"
      ],
      "metadata": {
        "colab": {
          "base_uri": "https://localhost:8080/"
        },
        "id": "nUr-ZtULX4Fu",
        "outputId": "68f7bc00-a3fb-4122-8afb-12ad34f19ef3"
      },
      "execution_count": 19,
      "outputs": [
        {
          "output_type": "stream",
          "name": "stderr",
          "text": [
            "/usr/local/lib/python3.7/dist-packages/ipykernel_launcher.py:1: UserWarning: `Model.fit_generator` is deprecated and will be removed in a future version. Please use `Model.fit`, which supports generators.\n",
            "  \"\"\"Entry point for launching an IPython kernel.\n"
          ]
        },
        {
          "output_type": "stream",
          "name": "stdout",
          "text": [
            "Epoch 1/20\n",
            "129/129 [==============================] - 761s 6s/step - loss: -0.3834 - accuracy: 0.3288 - val_loss: 0.0958 - val_accuracy: 0.4467\n",
            "Epoch 2/20\n",
            "129/129 [==============================] - 35s 271ms/step - loss: -3.8486 - accuracy: 0.3288 - val_loss: 0.2608 - val_accuracy: 0.4467\n",
            "Epoch 3/20\n",
            "129/129 [==============================] - 35s 271ms/step - loss: -10.2544 - accuracy: 0.3288 - val_loss: 0.5872 - val_accuracy: 0.4467\n",
            "Epoch 4/20\n",
            "129/129 [==============================] - 35s 270ms/step - loss: -20.3283 - accuracy: 0.3288 - val_loss: 1.0631 - val_accuracy: 0.4467\n",
            "Epoch 5/20\n",
            "129/129 [==============================] - 35s 271ms/step - loss: -33.7305 - accuracy: 0.3288 - val_loss: 1.6616 - val_accuracy: 0.4467\n",
            "Epoch 6/20\n",
            "129/129 [==============================] - 35s 269ms/step - loss: -50.0823 - accuracy: 0.3288 - val_loss: 2.3699 - val_accuracy: 0.4467\n",
            "Epoch 7/20\n",
            "129/129 [==============================] - 35s 271ms/step - loss: -69.2001 - accuracy: 0.3288 - val_loss: 3.1935 - val_accuracy: 0.4467\n",
            "Epoch 8/20\n",
            "129/129 [==============================] - 35s 269ms/step - loss: -91.2690 - accuracy: 0.3288 - val_loss: 4.1322 - val_accuracy: 0.4467\n",
            "Epoch 9/20\n",
            "129/129 [==============================] - 35s 269ms/step - loss: -115.9738 - accuracy: 0.3288 - val_loss: 5.1639 - val_accuracy: 0.4467\n",
            "Epoch 10/20\n",
            "129/129 [==============================] - 35s 270ms/step - loss: -143.1692 - accuracy: 0.3288 - val_loss: 6.2970 - val_accuracy: 0.4467\n",
            "Epoch 11/20\n",
            "129/129 [==============================] - 35s 268ms/step - loss: -172.9498 - accuracy: 0.3288 - val_loss: 7.5399 - val_accuracy: 0.4467\n",
            "Epoch 12/20\n",
            "129/129 [==============================] - 35s 268ms/step - loss: -204.9408 - accuracy: 0.3288 - val_loss: 8.8722 - val_accuracy: 0.4467\n",
            "Epoch 13/20\n",
            "129/129 [==============================] - 35s 269ms/step - loss: -239.2959 - accuracy: 0.3288 - val_loss: 10.2788 - val_accuracy: 0.4467\n",
            "Epoch 14/20\n",
            "129/129 [==============================] - 34s 266ms/step - loss: -275.8496 - accuracy: 0.3288 - val_loss: 11.7821 - val_accuracy: 0.4467\n",
            "Epoch 15/20\n",
            "129/129 [==============================] - 34s 260ms/step - loss: -314.8024 - accuracy: 0.3288 - val_loss: 13.3602 - val_accuracy: 0.4467\n",
            "Epoch 16/20\n",
            "129/129 [==============================] - 34s 261ms/step - loss: -355.7705 - accuracy: 0.3288 - val_loss: 15.0267 - val_accuracy: 0.4467\n",
            "Epoch 17/20\n",
            "129/129 [==============================] - 34s 260ms/step - loss: -398.6111 - accuracy: 0.3288 - val_loss: 16.8027 - val_accuracy: 0.4467\n",
            "Epoch 18/20\n",
            "129/129 [==============================] - 34s 265ms/step - loss: -443.2852 - accuracy: 0.3288 - val_loss: 18.6341 - val_accuracy: 0.4467\n",
            "Epoch 19/20\n",
            "129/129 [==============================] - 34s 262ms/step - loss: -490.0854 - accuracy: 0.3288 - val_loss: 20.5136 - val_accuracy: 0.4467\n",
            "Epoch 20/20\n",
            "129/129 [==============================] - 34s 264ms/step - loss: -538.5550 - accuracy: 0.3288 - val_loss: 22.5154 - val_accuracy: 0.4467\n"
          ]
        },
        {
          "output_type": "execute_result",
          "data": {
            "text/plain": [
              "<keras.callbacks.History at 0x7fac8ef15fd0>"
            ]
          },
          "metadata": {},
          "execution_count": 19
        }
      ]
    },
    {
      "cell_type": "code",
      "source": [
        "model.save(\"nutrition.h5\")"
      ],
      "metadata": {
        "id": "uZzWz6ruX-G2"
      },
      "execution_count": 20,
      "outputs": []
    },
    {
      "cell_type": "code",
      "source": [
        "from tensorflow.keras.models import load_model\n",
        "from keras.preprocessing  import image\n",
        "model =load_model(\"nutrition.h5\")"
      ],
      "metadata": {
        "id": "gfg1dDR4YBpP"
      },
      "execution_count": 21,
      "outputs": []
    },
    {
      "cell_type": "code",
      "source": [
        "import numpy as np\n",
        "from tensorflow.keras.utils import load_img\n",
        "from tensorflow.keras.utils import img_to_array\n",
        "#loading of the image\n",
        "img = load_img(r'/content/drive/MyDrive/Nutrition Analysis Using Image Classification/Flask/Sample_Images/Test_Image3.jpg', grayscale=False,target_size=(64,64))\n",
        "x = img_to_array(img)\n",
        "#changing the shape\n",
        "x= np.expand_dims(x,axis = 0)\n",
        "predict_x=model.predict(x)\n",
        "classes_x=np.argmax(predict_x,axis = -1)\n",
        "classes_x"
      ],
      "metadata": {
        "colab": {
          "base_uri": "https://localhost:8080/"
        },
        "id": "9ilO6du-YF_p",
        "outputId": "d6918dd8-29e1-47b8-c973-4a6da760b287"
      },
      "execution_count": 40,
      "outputs": [
        {
          "output_type": "stream",
          "name": "stdout",
          "text": [
            "1/1 [==============================] - 0s 236ms/step\n"
          ]
        },
        {
          "output_type": "execute_result",
          "data": {
            "text/plain": [
              "array([0])"
            ]
          },
          "metadata": {},
          "execution_count": 40
        }
      ]
    },
    {
      "cell_type": "code",
      "source": [
        "index=['APPLES', 'BANANA', 'ORANGE', 'PINEAPPLE', 'WATERMELON']\n",
        "result=str(index[classes_x[0]])\n",
        "result"
      ],
      "metadata": {
        "colab": {
          "base_uri": "https://localhost:8080/",
          "height": 36
        },
        "id": "HgbZWcsxYPc6",
        "outputId": "061209d2-272f-4522-be80-265534686839"
      },
      "execution_count": 41,
      "outputs": [
        {
          "output_type": "execute_result",
          "data": {
            "text/plain": [
              "'APPLES'"
            ],
            "application/vnd.google.colaboratory.intrinsic+json": {
              "type": "string"
            }
          },
          "metadata": {},
          "execution_count": 41
        }
      ]
    }
  ]
}